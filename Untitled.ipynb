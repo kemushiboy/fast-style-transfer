{
 "cells": [
  {
   "cell_type": "code",
   "execution_count": 1,
   "id": "268beedc-a05d-4f57-9e0b-9582b6f26055",
   "metadata": {},
   "outputs": [
    {
     "data": {
      "text/plain": [
       "<function dir>"
      ]
     },
     "execution_count": 1,
     "metadata": {},
     "output_type": "execute_result"
    }
   ],
   "source": [
    "dir"
   ]
  },
  {
   "cell_type": "code",
   "execution_count": 3,
   "id": "373ea945-eb3a-4c8e-8c29-b984fb37aadc",
   "metadata": {},
   "outputs": [
    {
     "name": "stdout",
     "output_type": "stream",
     "text": [
      "Requirement already satisfied: moviepy==1.0.2 in c:\\users\\ishikawa\\anaconda3\\envs\\tf-gpu\\lib\\site-packages (1.0.2)\n",
      "Requirement already satisfied: requests<3.0,>=2.8.1 in c:\\users\\ishikawa\\anaconda3\\envs\\tf-gpu\\lib\\site-packages (from moviepy==1.0.2) (2.26.0)\n",
      "Requirement already satisfied: proglog<=1.0.0 in c:\\users\\ishikawa\\anaconda3\\envs\\tf-gpu\\lib\\site-packages (from moviepy==1.0.2) (0.1.9)\n",
      "Requirement already satisfied: tqdm<5.0,>=4.11.2 in c:\\users\\ishikawa\\anaconda3\\envs\\tf-gpu\\lib\\site-packages (from moviepy==1.0.2) (4.62.3)\n",
      "Requirement already satisfied: numpy in c:\\users\\ishikawa\\anaconda3\\envs\\tf-gpu\\lib\\site-packages (from moviepy==1.0.2) (1.21.2)\n",
      "Requirement already satisfied: decorator<5.0,>=4.0.2 in c:\\users\\ishikawa\\anaconda3\\envs\\tf-gpu\\lib\\site-packages (from moviepy==1.0.2) (4.4.2)\n",
      "Requirement already satisfied: imageio-ffmpeg>=0.2.0 in c:\\users\\ishikawa\\anaconda3\\envs\\tf-gpu\\lib\\site-packages (from moviepy==1.0.2) (0.4.5)\n",
      "Requirement already satisfied: imageio<3.0,>=2.5 in c:\\users\\ishikawa\\anaconda3\\envs\\tf-gpu\\lib\\site-packages (from moviepy==1.0.2) (2.10.3)\n",
      "Requirement already satisfied: pillow>=8.3.2 in c:\\users\\ishikawa\\anaconda3\\envs\\tf-gpu\\lib\\site-packages (from imageio<3.0,>=2.5->moviepy==1.0.2) (8.4.0)\n",
      "Requirement already satisfied: charset-normalizer~=2.0.0 in c:\\users\\ishikawa\\anaconda3\\envs\\tf-gpu\\lib\\site-packages (from requests<3.0,>=2.8.1->moviepy==1.0.2) (2.0.4)\n",
      "Requirement already satisfied: certifi>=2017.4.17 in c:\\users\\ishikawa\\anaconda3\\envs\\tf-gpu\\lib\\site-packages (from requests<3.0,>=2.8.1->moviepy==1.0.2) (2021.10.8)\n",
      "Requirement already satisfied: urllib3<1.27,>=1.21.1 in c:\\users\\ishikawa\\anaconda3\\envs\\tf-gpu\\lib\\site-packages (from requests<3.0,>=2.8.1->moviepy==1.0.2) (1.26.7)\n",
      "Requirement already satisfied: idna<4,>=2.5 in c:\\users\\ishikawa\\anaconda3\\envs\\tf-gpu\\lib\\site-packages (from requests<3.0,>=2.8.1->moviepy==1.0.2) (3.2)\n",
      "Requirement already satisfied: colorama in c:\\users\\ishikawa\\anaconda3\\envs\\tf-gpu\\lib\\site-packages (from tqdm<5.0,>=4.11.2->moviepy==1.0.2) (0.4.4)\n"
     ]
    }
   ],
   "source": [
    "!pip install moviepy==1.0.2"
   ]
  },
  {
   "cell_type": "code",
   "execution_count": null,
   "id": "c7970135-cf8d-43d2-a559-66a5b64309b0",
   "metadata": {},
   "outputs": [],
   "source": []
  },
  {
   "cell_type": "code",
   "execution_count": null,
   "id": "f9d57890-1e44-487f-b3f5-178126946728",
   "metadata": {},
   "outputs": [],
   "source": []
  }
 ],
 "metadata": {
  "kernelspec": {
   "display_name": "Python 3 (ipykernel)",
   "language": "python",
   "name": "python3"
  },
  "language_info": {
   "codemirror_mode": {
    "name": "ipython",
    "version": 3
   },
   "file_extension": ".py",
   "mimetype": "text/x-python",
   "name": "python",
   "nbconvert_exporter": "python",
   "pygments_lexer": "ipython3",
   "version": "3.7.11"
  }
 },
 "nbformat": 4,
 "nbformat_minor": 5
}
